{
 "cells": [
  {
   "cell_type": "markdown",
   "metadata": {},
   "source": [
    "LoRA对线性层、卷积层进行微调，通过地址矩阵进行分解，要注意初始化方式\n",
    "A矩阵使用随机高斯初始化，B使用全零初始化，主要是为了保证在训练的初始阶段，SD的权重能够完全生效"
   ]
  },
  {
   "cell_type": "code",
   "execution_count": null,
   "metadata": {},
   "outputs": [
    {
     "name": "stdout",
     "output_type": "stream",
     "text": [
      "torch.Size([1, 196, 768])\n"
     ]
    }
   ],
   "source": [
    "import torch\n",
    "import torch.nn as nn\n",
    "import torch.nn.functional as F\n",
    "\n",
    "class LinearLoRA(nn.Module):\n",
    "    def __init__(self, in_features, out_features, rank=4, alpha=None):\n",
    "        super().__init__()\n",
    "        self.rank = rank\n",
    "        self.alpha = alpha\n",
    "\n",
    "        # 构建低秩矩阵A\n",
    "        self.down = nn.Linear(in_features, rank)\n",
    "        # B\n",
    "        self.up = nn.Linear(rank, out_features)\n",
    "\n",
    "        # 对两个低秩矩阵进行初始化\n",
    "        # A进行随机高斯初始化， NOTE 这里的下划线表示原地进行初始化，也就是直接进行权重修改\n",
    "        # NOTE 1/rank主要有以下作用：\n",
    "        # 当rank比较小的时候，生成的权重值分分布会比较宽，这样有助于模型在训练初期有更大的探索空间\n",
    "        # 当rank比较大的时候，标准差会比较小，这样生成的权重值会比较集中，有助于帮助模型快速收敛\n",
    "        nn.init.normal_(self.down.weight, std=1/rank)\n",
    "        # B进行全零初始化\n",
    "        nn.init.zeros_(self.up.weight)\n",
    "    \n",
    "    def forward(self, hidden_states):\n",
    "        down_hidden_states = self.down(hidden_states)\n",
    "        up_hidden_states = self.up(down_hidden_states)\n",
    "        if self.alpha is not None:\n",
    "            up_hidden_states *= self.alpha/ self.rank\n",
    "        \n",
    "        return up_hidden_states\n",
    "\n",
    "scale = 0.1  # LoRA的权重，表示影响程度\n",
    "ori_hidden_states = torch.randn(1, 196, 768)\n",
    "lora_linear = LinearLoRA(768, 768)\n",
    "lora_hidden_states = lora_linear(ori_hidden_states)\n",
    "output = ori_hidden_states + scale * lora_hidden_states\n",
    "print(output.shape)"
   ]
  },
  {
   "cell_type": "code",
   "execution_count": 1,
   "metadata": {},
   "outputs": [
    {
     "name": "stdout",
     "output_type": "stream",
     "text": [
      "torch.Size([1, 4, 64, 64])\n"
     ]
    }
   ],
   "source": [
    "import torch\n",
    "import torch.nn as nn\n",
    "\n",
    "class ConvLoRA(nn.Module):\n",
    "    def __init__(self, in_features, out_features, rank, alpha, kernel_size=(1, 1), stride=(1, 1), padding=0):\n",
    "        super().__init__()\n",
    "        self.rank = rank\n",
    "        self.alpha = alpha\n",
    "        self.down = nn.Conv2d(in_features, rank, kernel_size, stride, padding)\n",
    "        self.up = nn.Conv2d(rank, out_features, kernel_size=(1, 1), stride=(1,1))\n",
    "\n",
    "        # 初始化\n",
    "        nn.init.normal_(self.down.weight, std=1/rank)\n",
    "        nn.init.zeros_(self.up.weight)\n",
    "\n",
    "    def forward(self, hidden_states):\n",
    "        down_hidden_states = self.down(hidden_states)\n",
    "        up_hidden_states = self.up(down_hidden_states)\n",
    "        if self.alpha is not None:\n",
    "            up_hidden_states *=  self.alpha / self.rank\n",
    "        return up_hidden_states\n",
    "    \n",
    "dummy_input = torch.randn(1, 4, 64, 64)\n",
    "rank = 4\n",
    "alpha = 4\n",
    "scale = 0.1\n",
    "conv_lora = ConvLoRA(4, 4,rank, alpha)\n",
    "hidden_states = conv_lora(dummy_input)\n",
    "# 融合\n",
    "output = dummy_input + scale * hidden_states\n",
    "print(output.shape)"
   ]
  }
 ],
 "metadata": {
  "kernelspec": {
   "display_name": "base",
   "language": "python",
   "name": "python3"
  },
  "language_info": {
   "codemirror_mode": {
    "name": "ipython",
    "version": 3
   },
   "file_extension": ".py",
   "mimetype": "text/x-python",
   "name": "python",
   "nbconvert_exporter": "python",
   "pygments_lexer": "ipython3",
   "version": "3.10.13"
  }
 },
 "nbformat": 4,
 "nbformat_minor": 2
}
