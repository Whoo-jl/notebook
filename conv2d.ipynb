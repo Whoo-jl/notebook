{
 "cells": [
  {
   "cell_type": "code",
   "execution_count": 1,
   "metadata": {},
   "outputs": [
    {
     "data": {
      "text/plain": [
       "torch.Size([4, 16, 3, 3])"
      ]
     },
     "execution_count": 1,
     "metadata": {},
     "output_type": "execute_result"
    }
   ],
   "source": [
    "import torch\n",
    "import torch.nn.functional as F\n",
    "\n",
    "def conv2d(feature, kernel, stride=1, padding=0):\n",
    "    # 获取输入特征图的维度信息\n",
    "    batch_size, C, H, W = feature.shape\n",
    "    # 获取卷积核的维度信息\n",
    "    C_out, C_in, K_h, K_w = kernel.shape\n",
    "    # 计算输出特征图的大小, 向下取整\n",
    "    H_out = (H+2*padding-K_h) // stride +1\n",
    "    W_out = (W+2*padding-K_w) // stride +1\n",
    "\n",
    "    # 判断是否需要进行填充操作\n",
    "    if padding > 0:\n",
    "        feature = F.pad(feature, (padding, padding, padding, padding))\n",
    "\n",
    "    # 初始化输出\n",
    "    output = torch.zeros((batch_size, C_out,  H_out, W_out))\n",
    "    for i in range(H_out):\n",
    "        for j in range(W_out):\n",
    "            # 确定当前窗口的位置\n",
    "            h_start = i * stride\n",
    "            h_end = h_start + K_h\n",
    "            w_start = j * stride\n",
    "            w_end = w_start + K_w\n",
    "\n",
    "            # 获取输入的局部区域后与卷积核大小进行点乘操作\n",
    "            local_region = feature[:, :, h_start:h_end, w_start:w_end]\n",
    "            # 卷积操作：逐元素相乘并求和\n",
    "            for c_out in range(C_out):\n",
    "                # 逐元素相乘并求和，获得卷积结果\n",
    "                output[:, c_out, i, j] = torch.sum(local_region * kernel[c_out, :, :, :], dim=(1, 2, 3))+bias\n",
    "    \n",
    "    return output\n",
    "\n",
    "\n",
    "# 随机初始化一个输入，大小为(B, C, H, W)\n",
    "feature = torch.randn(4, 3, 5, 5)\n",
    "# 随机初始化一个卷积核，大小为(C_out, C_in, H, W)\n",
    "kernel = torch.randn(16, 3, 3, 3)\n",
    "bias = torch.tensor([1.0])  # 偏置\n",
    "output = conv2d(feature, kernel, stride=1, padding=0)\n",
    "output.shape"
   ]
  }
 ],
 "metadata": {
  "kernelspec": {
   "display_name": "base",
   "language": "python",
   "name": "python3"
  },
  "language_info": {
   "codemirror_mode": {
    "name": "ipython",
    "version": 3
   },
   "file_extension": ".py",
   "mimetype": "text/x-python",
   "name": "python",
   "nbconvert_exporter": "python",
   "pygments_lexer": "ipython3",
   "version": "3.10.13"
  }
 },
 "nbformat": 4,
 "nbformat_minor": 2
}
