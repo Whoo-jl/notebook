{
 "cells": [
  {
   "cell_type": "markdown",
   "metadata": {},
   "source": [
    "### 用pytorch从头实现max pooling"
   ]
  },
  {
   "cell_type": "code",
   "execution_count": null,
   "metadata": {},
   "outputs": [],
   "source": [
    "import torch\n",
    "import torch.nn.functional as F\n",
    "\n",
    "def max_pool2d_with_padding(x, kernel_size, stride, padding=1):\n",
    "    # 如果有填充操作，先对原始输入进行填充\n",
    "    if padding>0:\n",
    "        x = F.pad(x,(padding, padding, padding, padding), mode='constant', value=0)\n",
    "    print(x)\n",
    "    # 获取填充之后新的维度大小\n",
    "    batch_size, channels, height, width = x.shape\n",
    "    # 计算输出的高度和大小，对于不能整除的高宽是向下取整\n",
    "    out_height = (height+2*padding-kernel_size) // stride +1\n",
    "    out_width = (width+2*padding-kernel_size) // stride +1\n",
    "\n",
    "    # 创建一个空的张量用于保存池化后的结果\n",
    "    output = torch.zeros((batch_size, channels, out_height, out_width), device=x.device)\n",
    "\n",
    "    # 移动滑动窗口进行最大池化\n",
    "    for i in range(out_height):\n",
    "        for j in range(out_width):\n",
    "            # 计算窗口的起始和结束位置，循环遍历\n",
    "            h_start = i * stride\n",
    "            w_start = j * stride\n",
    "            h_end = h_start + kernel_size\n",
    "            w_end = w_start + kernel_size\n",
    "            # 用切片的方式获取当前窗口\n",
    "            window = x[:,:,h_start:h_end, w_start:w_end]\n",
    "            # 将窗口的形状重塑为batch_size， channels， kernel_size*kernel_size\n",
    "            window_flatten=window.reshape(batch_size, channels, -1)\n",
    "            # 求取最后一个维度中的最大值,也就是每个通道中的最大值\n",
    "            output[:,:,i,j]=window_flatten.max(dim=-1)[0]\n",
    "    return output\n",
    "\n",
    "\n",
    "# 创建一个输入张量\n",
    "x = torch.tensor([[[[1, 3, 2, 4],\n",
    "                    [5, 6, 8, 7],\n",
    "                    [4, 2, 9, 10],\n",
    "                    [8, 7, 6, 5]]]], dtype=torch.float32)\n",
    "\n",
    "# 设置核大小、步长和填充\n",
    "kernel_size = 2\n",
    "stride = 2\n",
    "padding = 0\n",
    "\n",
    "# 执行带有填充的最大池化\n",
    "output = max_pool2d_with_padding(x, kernel_size, stride, padding)\n",
    "print(\"输出结果:\\n\", output)"
   ]
  }
 ],
 "metadata": {
  "kernelspec": {
   "display_name": "base",
   "language": "python",
   "name": "python3"
  },
  "language_info": {
   "codemirror_mode": {
    "name": "ipython",
    "version": 3
   },
   "file_extension": ".py",
   "mimetype": "text/x-python",
   "name": "python",
   "nbconvert_exporter": "python",
   "pygments_lexer": "ipython3",
   "version": "3.10.13"
  }
 },
 "nbformat": 4,
 "nbformat_minor": 2
}
