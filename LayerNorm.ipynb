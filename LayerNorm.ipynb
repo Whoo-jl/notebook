{
 "cells": [
  {
   "cell_type": "code",
   "execution_count": 2,
   "metadata": {},
   "outputs": [
    {
     "data": {
      "text/plain": [
       "torch.Size([2, 10])"
      ]
     },
     "execution_count": 2,
     "metadata": {},
     "output_type": "execute_result"
    }
   ],
   "source": [
    "import torch\n",
    "import torch.nn as nn\n",
    "\n",
    "class LayerNorm(nn.Module):\n",
    "    def __init__(self, num_features, esp=1e-5):\n",
    "        super(LayerNorm, self).__init__()\n",
    "        # 防止分母为0\n",
    "        self.esp = esp\n",
    "        # 初始化γ和β，该参数用于平移和缩放，增强模型在不同归一化分布下对特征的表达能力\n",
    "        # 初始化一个可学习的参数γ\n",
    "        self.gamma = nn.Parameter(torch.ones(num_features))\n",
    "        # 初始化一个可学习的参数β\n",
    "        self.beta = nn.Parameter(torch.zeros(num_features))\n",
    "        \n",
    "    def forward(self, x):\n",
    "        # 沿着特征的维度求均值和方差\n",
    "        mean = x.mean(dim=-1, keepdim=True)\n",
    "        var = x.var(dim=-1, keepdim=True)\n",
    "        # 对特征进行归一化\n",
    "        normed_x = (x-mean) / torch.sqrt(var+self.esp)\n",
    "        # 进行平移和缩放\n",
    "        return self.gamma *normed_x + self.beta\n",
    "\n",
    "x = torch.rand(2, 10)\n",
    "layer_norm = LayerNorm(10)\n",
    "output = layer_norm(x)\n",
    "output"
   ]
  }
 ],
 "metadata": {
  "kernelspec": {
   "display_name": "base",
   "language": "python",
   "name": "python3"
  },
  "language_info": {
   "codemirror_mode": {
    "name": "ipython",
    "version": 3
   },
   "file_extension": ".py",
   "mimetype": "text/x-python",
   "name": "python",
   "nbconvert_exporter": "python",
   "pygments_lexer": "ipython3",
   "version": "3.10.13"
  }
 },
 "nbformat": 4,
 "nbformat_minor": 2
}
