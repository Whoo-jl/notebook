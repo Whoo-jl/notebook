{
 "cells": [
  {
   "cell_type": "markdown",
   "metadata": {},
   "source": [
    "多头自注意力机制\n",
    "\n",
    "$\\alpha$"
   ]
  },
  {
   "cell_type": "code",
   "execution_count": null,
   "metadata": {},
   "outputs": [
    {
     "name": "stdout",
     "output_type": "stream",
     "text": [
      "torch.Size([1, 8, 196, 196])\n",
      "torch.Size([1, 196, 768])\n"
     ]
    }
   ],
   "source": [
    "import torch\n",
    "import torch.nn as nn\n",
    "import torch.nn.functional as F\n",
    "\n",
    "class MultiHeadSelfAttention(nn.Module):\n",
    "    def __init__(self, embedding_dim, head_num):\n",
    "        super().__init__()\n",
    "        self.q = nn.Linear(embedding_dim, embedding_dim)\n",
    "        self.k = nn.Linear(embedding_dim, embedding_dim)\n",
    "        self.v = nn.Linear(embedding_dim, embedding_dim)\n",
    "        # 每个头的维度\n",
    "        self.head_dim = embedding_dim // head_num\n",
    "        self.head_num = head_num\n",
    "\n",
    "        # 线性映射\n",
    "        self.proj = nn.Linear(embedding_dim, embedding_dim)\n",
    "\n",
    "    def forward(self, x):\n",
    "        batch_size, seq_length, seq_dim = x.shape\n",
    "        Q = self.q(x)\n",
    "        K = self.k(x)\n",
    "        V = self.v(x)\n",
    "        # 将qkv的形状进行重塑，然后实现并行计算\n",
    "        Q = Q.view(batch_size, seq_length, self.head_num, self.head_dim).transpose(1, 2)\n",
    "        K = K.view(batch_size, seq_length, self.head_num, self.head_dim).transpose(1, 2)\n",
    "        V = V.view(batch_size, seq_length, self.head_num, self.head_dim).transpose(1, 2)\n",
    "        # 计算交叉注意力\n",
    "        attn = F.softmax((Q @ K.transpose(2,3))/ self.head_dim ** 0.5, dim =-1)\n",
    "        print(attn.shape)\n",
    "        # 计算输出 NOTE 此时矩阵的乘法需要注意有哪几种\n",
    "        output = attn @ V\n",
    "        # 将所有头的结果拼接在一起 (b, head_num, seq_len, head_dim) -> (b, seq_len, head_num, head_dim) -> (b, seq_len, embedding_dim)\n",
    "        output = output.transpose(1,2).reshape(batch_size, seq_length, -1)\n",
    "        output = self.proj(output)\n",
    "        return output\n",
    "\n",
    "\n",
    "embedding_dim = 768\n",
    "head_num = 8\n",
    "dummy_input = torch.randn(1, 196, 768)\n",
    "multi_head_self_attention = MultiHeadSelfAttention(embedding_dim=embedding_dim, head_num=8)\n",
    "output = multi_head_self_attention(dummy_input)\n",
    "print(output.shape)"
   ]
  }
 ],
 "metadata": {
  "kernelspec": {
   "display_name": "base",
   "language": "python",
   "name": "python3"
  },
  "language_info": {
   "codemirror_mode": {
    "name": "ipython",
    "version": 3
   },
   "file_extension": ".py",
   "mimetype": "text/x-python",
   "name": "python",
   "nbconvert_exporter": "python",
   "pygments_lexer": "ipython3",
   "version": "3.10.13"
  }
 },
 "nbformat": 4,
 "nbformat_minor": 2
}
