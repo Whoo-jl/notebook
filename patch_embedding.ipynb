{
 "cells": [
  {
   "cell_type": "markdown",
   "metadata": {},
   "source": [
    "## 实现patch embedding\n",
    "Transformer框架中常用的图片编码模块"
   ]
  },
  {
   "cell_type": "code",
   "execution_count": 4,
   "metadata": {},
   "outputs": [
    {
     "name": "stdout",
     "output_type": "stream",
     "text": [
      "torch.Size([1, 196, 768])\n"
     ]
    }
   ],
   "source": [
    "import torch\n",
    "import torch.nn as nn\n",
    "import torch.nn.functional as F\n",
    "\n",
    "class PatchEmbedding(nn.Module):\n",
    "    def __init__(self, in_channels, embedding_dim, patch_size):\n",
    "        super().__init__()\n",
    "        self.conv = nn.Conv2d(in_channels=in_channels, out_channels=embedding_dim, kernel_size=patch_size, stride=patch_size)\n",
    "    \n",
    "    def forward(self, x):\n",
    "        x = self.conv(x)\n",
    "        return x\n",
    "        \n",
    "image_size = 224\n",
    "embedding_dim = 768\n",
    "patch_size = 16\n",
    "in_channels = 3\n",
    "dummy_input = torch.randn(1, in_channels, image_size, image_size)\n",
    "patch_embedding = PatchEmbedding(in_channels, embedding_dim, patch_size)\n",
    "# 输出 B，C，H，W\n",
    "x = patch_embedding(dummy_input)\n",
    "# 进行维度转换-> B,N,E NOTE 这个地方还有很多维度转换的方式\n",
    "x = x.reshape(1, embedding_dim, -1).permute(0,2,1)\n",
    "print(x.shape)"
   ]
  }
 ],
 "metadata": {
  "kernelspec": {
   "display_name": "base",
   "language": "python",
   "name": "python3"
  },
  "language_info": {
   "codemirror_mode": {
    "name": "ipython",
    "version": 3
   },
   "file_extension": ".py",
   "mimetype": "text/x-python",
   "name": "python",
   "nbconvert_exporter": "python",
   "pygments_lexer": "ipython3",
   "version": "3.10.13"
  }
 },
 "nbformat": 4,
 "nbformat_minor": 2
}
