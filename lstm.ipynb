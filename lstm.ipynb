{
 "cells": [
  {
   "cell_type": "code",
   "execution_count": null,
   "metadata": {},
   "outputs": [],
   "source": [
    "import torch\n",
    "import torch.nn as nn\n",
    "\n",
    "class LSTM(nn.Module):\n",
    "    def __init__(self, input_size, hidden_size, num_layers):\n",
    "        super().__init__()\n",
    "        self.lstm = nn.LSTM(input_size, hidden_size, num_layers, batch_first=True)\n",
    "\n",
    "    def forward(self, x):\n",
    "        x, (h_n, c_n) = self.lstm(x)\n",
    "        return x, h_n, c_n\n",
    "\n",
    "dummy_input = torch.randn(1, 196, 768)\n",
    "num_layers = 2\n",
    "input_size = 768\n",
    "hidden_size = 1024\n",
    "lstm = LSTM(input_size, hidden_size, num_layers)\n",
    "output, h_n, c_n = lstm(dummy_input)\n",
    "print(output.shape, h_n.shape, c_n.shape)"
   ]
  },
  {
   "cell_type": "code",
   "execution_count": null,
   "metadata": {},
   "outputs": [],
   "source": [
    "class BiLSTM(nn.Module):\n",
    "    def __init__(self, input_size, hidden_size, num_layers):\n",
    "        super().__init__()\n",
    "        self.bilstm = nn.LSTM(input_size, hidden_size, num_layers=num_layers, bidirectional=True)\n",
    "\n",
    "    def forward(self, x):\n",
    "        x, (h_n, c_n) = self.bilstm(x)\n",
    "        return x, (h_n, c_n)\n",
    "\n",
    "input_size = 768\n",
    "hidden_size = 1024\n",
    "seq_len = 196\n",
    "batch_size=4\n",
    "dummy_input = torch.randn(batch_size, seq_len, input_size)\n",
    "bilstm = BiLSTM(input_size, hidden_size, num_layers=2)\n",
    "output, (h_n, c_n) = bilstm(dummy_input)\n",
    "print(output.shape, h_n.shape, c_n.shape)"
   ]
  }
 ],
 "metadata": {
  "kernelspec": {
   "display_name": "base",
   "language": "python",
   "name": "python3"
  },
  "language_info": {
   "codemirror_mode": {
    "name": "ipython",
    "version": 3
   },
   "file_extension": ".py",
   "mimetype": "text/x-python",
   "name": "python",
   "nbconvert_exporter": "python",
   "pygments_lexer": "ipython3",
   "version": "3.10.13"
  }
 },
 "nbformat": 4,
 "nbformat_minor": 2
}
