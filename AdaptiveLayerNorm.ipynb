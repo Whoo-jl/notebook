{
 "cells": [
  {
   "cell_type": "code",
   "execution_count": 1,
   "metadata": {},
   "outputs": [
    {
     "data": {
      "text/plain": [
       "tensor([[-0.6471,  0.1634,  0.9821, -0.2451,  0.3260,  0.2721,  0.3165,  0.3182,\n",
       "          0.3237, -0.2489],\n",
       "        [ 1.2208,  1.8165, -1.1213, -1.2845, -1.9062, -2.3097, -2.2504,  0.1096,\n",
       "          0.1361, -1.6753]], grad_fn=<AddBackward0>)"
      ]
     },
     "execution_count": 1,
     "metadata": {},
     "output_type": "execute_result"
    }
   ],
   "source": [
    "import torch\n",
    "import torch.nn as nn\n",
    "\n",
    "class AdaptiveLayerNorm(nn.Module):\n",
    "    def __init__(self, num_features, esp=1e-5):\n",
    "        super(AdaptiveLayerNorm, self).__init__()\n",
    "        # esp防止分母为0\n",
    "        self.esp = esp\n",
    "        # 在自适应层归一化中，γ和β不再是固定的参数，而是动态生成的\n",
    "        # 比如：可以通过线性层来动态生成γ和β\n",
    "        self.gamma = nn.Linear(num_features, num_features)\n",
    "        self.beta = nn.Linear(num_features, num_features)\n",
    "\n",
    "    def forward(self, x, condition):\n",
    "        mean = x.mean(dim=-1, keepdim=True)\n",
    "        var = x.var(dim=-1, keepdim=True)\n",
    "        normal_x = (x-mean) / torch.sqrt(var + self.esp)\n",
    "        gamma = self.gamma(condition)\n",
    "        beta = self.beta(condition)\n",
    "        return gamma * normal_x + beta\n",
    "\n",
    "input = torch.randn(2, 10)\n",
    "condition = torch.randn(2, 10)\n",
    "adaptive_layer_norm = AdaptiveLayerNorm(10)\n",
    "output = adaptive_layer_norm(input, condition)   \n",
    "output"
   ]
  }
 ],
 "metadata": {
  "kernelspec": {
   "display_name": "base",
   "language": "python",
   "name": "python3"
  },
  "language_info": {
   "codemirror_mode": {
    "name": "ipython",
    "version": 3
   },
   "file_extension": ".py",
   "mimetype": "text/x-python",
   "name": "python",
   "nbconvert_exporter": "python",
   "pygments_lexer": "ipython3",
   "version": "3.10.13"
  }
 },
 "nbformat": 4,
 "nbformat_minor": 2
}
