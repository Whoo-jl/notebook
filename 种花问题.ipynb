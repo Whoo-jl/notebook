{
 "cells": [
  {
   "cell_type": "markdown",
   "metadata": {},
   "source": [
    "假设有一个很长的花坛，一部分地块种植了花，另一部分却没有。可是，花不能种植在相邻的地块上，它们会争夺水源，两者都会死去。\n",
    "\n",
    "给你一个整数数组 flowerbed 表示花坛，由若干 0 和 1 组成，其中 0 表示没种植花，1 表示种植了花。另有一个数 n ，能否在不打破种植规则的情况下种入 n 朵花？能则返回 true ，不能则返回 false 。\n",
    "\n",
    " \n",
    "\n",
    "示例 1：\n",
    "\n",
    "输入：flowerbed = [1,0,0,0,1], n = 1\n",
    "输出：true\n",
    "示例 2：\n",
    "\n",
    "输入：flowerbed = [1,0,0,0,1], n = 2\n",
    "输出：false\n",
    " \n",
    "\n",
    "提示：\n",
    "\n",
    "1 <= flowerbed.length <= 2 * 104\n",
    "flowerbed[i] 为 0 或 1\n",
    "flowerbed 中不存在相邻的两朵花\n",
    "0 <= n <= flowerbed.length"
   ]
  },
  {
   "cell_type": "code",
   "execution_count": 2,
   "metadata": {},
   "outputs": [
    {
     "name": "stdout",
     "output_type": "stream",
     "text": [
      "True\n"
     ]
    }
   ],
   "source": [
    "class Solution(object):\n",
    "    def canPlaceFlowers(self, flowerbed, n):\n",
    "        \"\"\"\n",
    "        :type flowerbed: List[int]\n",
    "        :type n: int\n",
    "        :rtype: bool\n",
    "        \"\"\"\n",
    "        length = len(flowerbed)\n",
    "        if length == 1 and flowerbed[0] ==0:\n",
    "            if n<=1:\n",
    "                return True\n",
    "            else:\n",
    "                return False\n",
    "        else:\n",
    "            for i, item in enumerate(flowerbed):\n",
    "                if item == 1:\n",
    "                    continue\n",
    "                else:\n",
    "                    if i==0:\n",
    "                        if item ==0 and flowerbed[i+1] ==0:\n",
    "                            n -= 1\n",
    "                            flowerbed[i] = 1\n",
    "                    elif i == length-1: \n",
    "                        if item==0 and flowerbed[i-1] == 0:\n",
    "                            n -= 1\n",
    "                            flowerbed[i] = 1\n",
    "                    elif flowerbed[i+1] ==0 and flowerbed[i-1]==0:\n",
    "                        n-=1\n",
    "                        flowerbed[i] = 1\n",
    "                    else:\n",
    "                        continue\n",
    "            if n <=0:\n",
    "                return True\n",
    "            else:\n",
    "                return False\n",
    "\n",
    "flowerbed = [1,0,0,0,1]\n",
    "n = 1\n",
    "s = Solution().canPlaceFlowers(flowerbed, n)\n",
    "print(s)"
   ]
  }
 ],
 "metadata": {
  "kernelspec": {
   "display_name": "base",
   "language": "python",
   "name": "python3"
  },
  "language_info": {
   "codemirror_mode": {
    "name": "ipython",
    "version": 3
   },
   "file_extension": ".py",
   "mimetype": "text/x-python",
   "name": "python",
   "nbconvert_exporter": "python",
   "pygments_lexer": "ipython3",
   "version": "3.10.13"
  }
 },
 "nbformat": 4,
 "nbformat_minor": 2
}
