{
 "cells": [
  {
   "cell_type": "markdown",
   "metadata": {},
   "source": [
    "自注意力机制"
   ]
  },
  {
   "cell_type": "code",
   "execution_count": 2,
   "metadata": {},
   "outputs": [
    {
     "name": "stdout",
     "output_type": "stream",
     "text": [
      "torch.Size([1, 196, 768])\n"
     ]
    }
   ],
   "source": [
    "import torch\n",
    "import torch.nn as nn\n",
    "import torch.nn.functional as F\n",
    "\n",
    "class SelfAttnetion(nn.Module):\n",
    "    def __init__(self, embedding_dim):\n",
    "        super().__init__()\n",
    "        # 线性变换构建q,k,v向量\n",
    "        self.q = nn.Linear(embedding_dim, embedding_dim)\n",
    "        self.k = nn.Linear(embedding_dim, embedding_dim)\n",
    "        self.v = nn.Linear(embedding_dim, embedding_dim)\n",
    "        # 输出投影\n",
    "        self.proj = nn.Linear(embedding_dim, embedding_dim)\n",
    "    \n",
    "    def forward(self, x):\n",
    "        # 通过线性变换获取q,k,v向量\n",
    "        Q = self.q(x)\n",
    "        K = self.k(x)\n",
    "        V = self.v(x)\n",
    "        scale = K.shape[-1]\n",
    "        # 计算注意力权重 NOTE 这个地方用的是F.softmax，如果是nn.Softmax就需要实例化！！！\n",
    "        attn = F.softmax(torch.bmm(Q, K.transpose(1, 2)) / scale**0.5, dim=-1)\n",
    "        x = torch.bmm(attn, V)\n",
    "        # 将输出进行线性投影\n",
    "        output = self.proj(x)\n",
    "        return output\n",
    "\n",
    "        \n",
    "# 创建一个序列输入\n",
    "dummy_input = torch.randn(1, 196, 768)\n",
    "embedding_dim = 768\n",
    "self_attention = SelfAttnetion(embedding_dim=embedding_dim)\n",
    "output = self_attention(dummy_input)\n",
    "print(output.shape)"
   ]
  }
 ],
 "metadata": {
  "kernelspec": {
   "display_name": "base",
   "language": "python",
   "name": "python3"
  },
  "language_info": {
   "codemirror_mode": {
    "name": "ipython",
    "version": 3
   },
   "file_extension": ".py",
   "mimetype": "text/x-python",
   "name": "python",
   "nbconvert_exporter": "python",
   "pygments_lexer": "ipython3",
   "version": "3.10.13"
  }
 },
 "nbformat": 4,
 "nbformat_minor": 2
}
