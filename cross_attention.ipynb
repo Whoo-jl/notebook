{
 "cells": [
  {
   "cell_type": "markdown",
   "metadata": {},
   "source": [
    "cross attention允许输入的序列来自不同的模态"
   ]
  },
  {
   "cell_type": "code",
   "execution_count": 1,
   "metadata": {},
   "outputs": [
    {
     "name": "stdout",
     "output_type": "stream",
     "text": [
      "torch.Size([1, 196, 768])\n"
     ]
    },
    {
     "name": "stderr",
     "output_type": "stream",
     "text": [
      "/tmp/ipykernel_891909/1106266346.py:24: UserWarning: Implicit dimension choice for softmax has been deprecated. Change the call to include dim=X as an argument.\n",
      "  attn = F.softmax((Q @ K.transpose(2, 3)) / self.head_dim ** 0.5)\n"
     ]
    }
   ],
   "source": [
    "import torch\n",
    "import torch.nn as nn\n",
    "import torch.nn.functional as F\n",
    "\n",
    "class CrossAttention(nn.Module):\n",
    "    def __init__(self, embd_dim, head_nums):\n",
    "        super().__init__()\n",
    "        self.head_nums = head_nums\n",
    "        self.head_dim = embd_dim // head_nums\n",
    "\n",
    "        self.q = nn.Linear(embd_dim, embd_dim)\n",
    "        self.k = nn.Linear(embd_dim, embd_dim)\n",
    "        self.v = nn.Linear(embd_dim, embd_dim)\n",
    "\n",
    "        self.proj = nn.Linear(embd_dim, embd_dim)\n",
    "    \n",
    "    def forward(self, quary, key, value, mask=None):\n",
    "        batch_size, seq_len, seq_dim = quary.shape\n",
    "        Q = self.q(quary).reshape(batch_size, seq_len, self.head_nums, -1).transpose(1,2)\n",
    "        K = self.k(key).reshape(batch_size, seq_len, self.head_nums, -1).transpose(1,2)\n",
    "        V = self.v(value).reshape(batch_size, seq_len, self.head_nums, -1).transpose(1,2)\n",
    "\n",
    "        # 计算attention\n",
    "        attn = F.softmax((Q @ K.transpose(2, 3)) / self.head_dim ** 0.5, dim=-1)\n",
    "        output = attn @ V\n",
    "        # 合并\n",
    "        output = output.permute(0, 2, 1, 3).reshape(batch_size, seq_len, -1)\n",
    "        return output\n",
    "\n",
    "\n",
    "quary = torch.randn(1, 196, 768)\n",
    "key = torch.randn(1, 196, 768)\n",
    "value = torch.randn(1, 196, 768)\n",
    "head_nums = 8\n",
    "embd_dim = 768\n",
    "cross_attention = CrossAttention(embd_dim, head_nums)\n",
    "output = cross_attention(quary, value, key)\n",
    "print(output.shape)"
   ]
  }
 ],
 "metadata": {
  "kernelspec": {
   "display_name": "base",
   "language": "python",
   "name": "python3"
  },
  "language_info": {
   "codemirror_mode": {
    "name": "ipython",
    "version": 3
   },
   "file_extension": ".py",
   "mimetype": "text/x-python",
   "name": "python",
   "nbconvert_exporter": "python",
   "pygments_lexer": "ipython3",
   "version": "3.10.13"
  }
 },
 "nbformat": 4,
 "nbformat_minor": 2
}
