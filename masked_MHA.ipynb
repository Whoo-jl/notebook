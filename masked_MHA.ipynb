{
 "cells": [
  {
   "cell_type": "markdown",
   "metadata": {},
   "source": [
    "在transfomer中，masked multi-head attention是多头注意力机制的一种变体，通常用于解码器的部分。\n",
    "它的主要目的是生成序列时，确保模型只关注**当前位置和之前位置**，从而避免未来的信息泄露\n",
    "\n",
    "在解码器中，模型通过生成的部分序列来预测下一个token。在训练阶段，模型能够看到目标序列的整个内容，但为了让模型在解码\n",
    "过程中模拟生成的过程，需要对尚未生成的词进行屏蔽(masking)，避免模型在预测下一个词的时候用到未来的信息。\n",
    "\n",
    "Masked MHA的作用是在计算注意力得分时候，使用一个掩码矩阵，将未生成的部分屏蔽起来，使得模型只关注当前和之前的词。"
   ]
  },
  {
   "cell_type": "code",
   "execution_count": null,
   "metadata": {},
   "outputs": [],
   "source": [
    "import torch\n",
    "import torch.nn as nn\n",
    "import torch.nn.functional as F\n",
    "\n",
    "class MaskedMultiHeadAttention(nn.Module):\n",
    "    def __init__(self, embd_dim, head_nums):\n",
    "        super().__init__()\n",
    "        self.head_nums = head_nums\n",
    "        self.head_dim = embd_dim // head_nums\n",
    "        # 精简线性计算的过程\n",
    "        self.qkv = nn.Linear(embd_dim, embd_dim*3)\n",
    "        self.proj = nn.Linear(embd_dim, embd_dim)\n",
    "\n",
    "\n",
    "    def forward(self, x, mask=None):\n",
    "        batch_size, seq_len, embd_dim = x.shape\n",
    "        qkv = self.qkv(x)\n",
    "        # 维度转换\n",
    "        qkv = qkv.reshape(batch_size, seq_length, 3, self.head_nums, self.head_dim)\n",
    "        Q, K, V = qkv.permute(2, 0, 3, 1, 4).unbind(0)\n",
    "\n",
    "        # Q, K, V = qkv.permute(2, 0, 3, 1, 4).chunk(3, dim=0)\n",
    "        print(Q.shape)\n",
    "\n",
    "        dim_k = K.shape[-1]\n",
    "\n",
    "        # 计算注意力权重\n",
    "        attn = F.sigmoid((Q @ K.transpose(2, 3) / self.head_dim ** 0.5), dim=-1)\n",
    "        if mask is not None:\n",
    "            attn = attn.masked_fill(mask==0, float('-inf'))\n",
    "        output = attn @ V\n",
    "        # 将每个头的输出进行拼接\n",
    "        output = output.transpose(2, 3).reshape(batch_size, seq_len, -1)\n",
    "        output = self.proj(output)\n",
    "\n",
    "        return output\n",
    "        \n",
    "\n",
    "\n",
    "dummy_input = torch.randn(1, 196, 768)\n",
    "head_nums = 8\n",
    "seq_length = 196\n",
    "embedding_dim = 768\n",
    "# 构建一个上三角矩阵，将未来位置设置为false，其余位置设置为true(当前信息的位置和之前信息的位置)\n",
    "mask = torch.triu(torch.ones(seq_length, seq_length), diagonal=1)\n",
    "masked_attention = MaskedMultiHeadAttention(embd_dim=embedding_dim, head_nums=head_nums)\n",
    "output = masked_attention(dummy_input)\n",
    "print(output.shape)"
   ]
  }
 ],
 "metadata": {
  "kernelspec": {
   "display_name": "base",
   "language": "python",
   "name": "python3"
  },
  "language_info": {
   "codemirror_mode": {
    "name": "ipython",
    "version": 3
   },
   "file_extension": ".py",
   "mimetype": "text/x-python",
   "name": "python",
   "nbconvert_exporter": "python",
   "pygments_lexer": "ipython3",
   "version": "3.10.13"
  }
 },
 "nbformat": 4,
 "nbformat_minor": 2
}
